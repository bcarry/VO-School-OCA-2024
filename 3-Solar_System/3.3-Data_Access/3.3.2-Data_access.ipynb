{
 "cells": [
  {
   "cell_type": "markdown",
   "id": "e272277a",
   "metadata": {},
   "source": [
    "# Programmatic Data Access\n",
    "\n",
    "In tutorial `3.2.2 - How to query an API`, we explored how to access different\n",
    "services using their APIs and the `requests` module. In this tutorial, we take a look at two `python` packages\n",
    "that take care of this low-level connection to simplify our access to databases. This is particularly interesting\n",
    "for when we want to efficiently query data for a\n",
    "large number of objects. The packages we look at are `astroquery` and\n",
    "`rocks`. Internally, both packages make use of APIs and the `requests` package to provide a direct programmatic interface to their databases.\n",
    "\n",
    "The tutorial focuses on physical parameters of asteroids and comets. For meteorites, refer to the\n",
    "lecture slides (and the expert-level tutorial).\n",
    "\n",
    "## `astroquery`\n",
    "\n",
    "[astroquery](https://astroquery.readthedocs.io/en/latest/) is an\n",
    "[astropy](https://www.astropy.org/)-affiliated package providing access to\n",
    "astronomical databases and catalogues. The strength of this package is the\n",
    "large [number of\n",
    "services](https://astroquery.readthedocs.io/en/latest/#available-services) that\n",
    "can be queried with a uniform syntax. It can retrieve mission data from ESA's\n",
    "planetary science archive, execute cone-searches in various catalogues (as we\n",
    "saw on Tuesday), and provide data on a wide range of astrophysical objects.\n",
    "\n",
    "For our purposes, we are interested in services that provide data on small bodies. We can split them into two categories:\n",
    "\n",
    "**Orbital Parameters and Ephemerides**\n",
    "- [IMCCE](https://astroquery.readthedocs.io/en/latest/imcce/imcce.html) - For Asteroids and Comets \n",
    "- [JPLHorizons](https://astroquery.readthedocs.io/en/latest/jplhorizons/jplhorizons.html) - For Asteroids and Comets \n",
    "- [MPC](https://astroquery.readthedocs.io/en/latest/mpc/mpc.html) - For Asteroids and Comets \n",
    "- [NEODys](https://astroquery.readthedocs.io/en/latest/solarsystem/neodys/neodys.html) - For Near-Earth Asteroids"
   ]
  },
  {
   "cell_type": "markdown",
   "id": "5784bd79",
   "metadata": {},
   "source": [
    "**Physical Parameters**\n",
    "- [MPC](https://astroquery.readthedocs.io/en/latest/mpc/mpc.html) - For asteroids and comets\n",
    "- [JPL Small-Body Database](https://ssd.jpl.nasa.gov/tools/sbdb_lookup.html) - For asteroids and comets.\n",
    "\n",
    "Notebook `3.2 - Exercises` looks at the computation of ephemerides. We continue here with the physical parameters only, starting\n",
    "with the Small-Body Database (SBDB).\n",
    "\n",
    "### JPL Small-Body Database\n",
    "\n",
    "The standard approach to query a service with `astroquery` is to import the service class and run a query function.\n",
    "We see this pattern below with the `SBDB` class and its `query` function. The `query` function accepts a string as input\n",
    "which identifies the object-of-interest, either by giving its name, number, or designation. To get physical parameters, we\n",
    "have to set `phys=True`. We use the `python` built-in `pprint` command for pretty-printing the result (try running the regular `print` command\n",
    "instead to see the benefit)."
   ]
  },
  {
   "cell_type": "code",
   "execution_count": null,
   "id": "9ceeaec3",
   "metadata": {},
   "outputs": [],
   "source": [
    "from astroquery.jplsbdb import SBDB\n",
    "from pprint import pprint  # the pretty-printer for more readable output\n",
    "\n",
    "data = SBDB.query('14328', phys=True)\n",
    "\n",
    "pprint(data)"
   ]
  },
  {
   "cell_type": "markdown",
   "id": "68578528",
   "metadata": {},
   "source": [
    "The output of this query is an `OrderedDict` - think of it like a regular `python` dictionary for now, where we access the\n",
    "different values by indexing (this operation: `dict['key']`). The `data` object contains different kind of parameters:"
   ]
  },
  {
   "cell_type": "code",
   "execution_count": null,
   "id": "3fb8e125",
   "metadata": {},
   "outputs": [],
   "source": [
    "data.keys()"
   ]
  },
  {
   "cell_type": "markdown",
   "id": "779e651f",
   "metadata": {},
   "source": [
    "The physical ones are stored under the `phys_par` key."
   ]
  },
  {
   "cell_type": "code",
   "execution_count": null,
   "id": "f7b170b1",
   "metadata": {},
   "outputs": [],
   "source": [
    "data['phys_par']"
   ]
  },
  {
   "cell_type": "markdown",
   "id": "9263c590",
   "metadata": {},
   "source": [
    "We have data!"
   ]
  },
  {
   "cell_type": "code",
   "execution_count": null,
   "id": "e4d8210f",
   "metadata": {},
   "outputs": [],
   "source": [
    "print(f\"{data['object']['shortname']} has an albedo of {data['phys_par']['albedo']} +- {data['phys_par']['albedo_sig']} according to {data['phys_par']['albedo_ref']}.\")"
   ]
  },
  {
   "cell_type": "markdown",
   "id": "1c4b9d90",
   "metadata": {},
   "source": [
    "The example asteroid we chose here has only a few known physical parameters.\n",
    "Change the query example above to e.g. `ceres` to a more exhaustive list of\n",
    "parameters that JPL provides, such as density, taxonomy, and rotation period.\n",
    "\n",
    "Using the `SBDB.query` function in a loop, we can thus get physical parameters\n",
    "for a lot of objects quickly. It is not efficient yet, as we are sending one\n",
    "query per object to the server which takes some time, but it is already much\n",
    "more convenient than going through the web interface.\n",
    "\n",
    "The SBDB also contains physical parameters of comets."
   ]
  },
  {
   "cell_type": "code",
   "execution_count": null,
   "id": "d425f208",
   "metadata": {},
   "outputs": [],
   "source": [
    "data = SBDB.query('67P', phys=True)\n",
    "\n",
    "pprint(data['phys_par'])"
   ]
  },
  {
   "cell_type": "markdown",
   "id": "e9af5ef2",
   "metadata": {},
   "source": [
    "### Minor Planet Center\n",
    "\n",
    "The Minor Planet Center database is accessible via the `MPC` class. We use the\n",
    "`query_object` function to specify the type (`asteroid` or `comet`) and the\n",
    "`name`, `number`, or `designation` of the target."
   ]
  },
  {
   "cell_type": "code",
   "execution_count": null,
   "id": "a66201e5",
   "metadata": {},
   "outputs": [],
   "source": [
    "from astroquery.mpc import MPC\n",
    "\n",
    "result = MPC.query_object('asteroid', name='ceres')\n",
    "pprint(result)"
   ]
  },
  {
   "cell_type": "markdown",
   "id": "6fbea5a9",
   "metadata": {},
   "source": [
    "We see that, compared to the physical parameters available through SBDB, the ones in the MPC\n",
    "database are rather limited (it's really only the `absolute_magnitude`)."
   ]
  },
  {
   "cell_type": "code",
   "execution_count": null,
   "id": "037059d2",
   "metadata": {},
   "outputs": [],
   "source": [
    "result = MPC.query_object('comet', designation='67P')\n",
    "pprint(result)"
   ]
  },
  {
   "cell_type": "markdown",
   "id": "7860df27",
   "metadata": {},
   "source": [
    "Nevertheless, this service deserves a mention here as it allows to query for asteroids and comets based on *shared orbital parameters*. We switch\n",
    "to the `query_objects` function and look for asteroids with a maximum aphelion distance of 1AU. We only want their names, numbers, and designations returned."
   ]
  },
  {
   "cell_type": "code",
   "execution_count": null,
   "id": "b1022bbb",
   "metadata": {},
   "outputs": [],
   "source": [
    "targets = MPC.query_objects('asteroid', aphelion_distance_max=1, return_fields=['name,number,designation'])\n",
    "print(f\"Found {len(targets)} asteroids matching these orbital criteria.\")\n",
    "pprint(targets[:5])"
   ]
  },
  {
   "cell_type": "markdown",
   "id": "0df5a8e3",
   "metadata": {},
   "source": [
    "This means that we can now dynamically define orbital populations that we want to study. In this context, \"dynamical\" means that we can change\n",
    "the population that we study by changing the parameters, rather than providing a *static* list of objects.\n",
    "\n",
    "For example, let's combine SBDB and MPC to get all albedos of the objects with aphelia inside the Earth's orbit."
   ]
  },
  {
   "cell_type": "code",
   "execution_count": null,
   "id": "dc9fbfea",
   "metadata": {},
   "outputs": [],
   "source": [
    "targets = MPC.query_objects('asteroid', aphelion_distance_max=1, return_fields=['name,number,designation'])\n",
    "\n",
    "albedos = []\n",
    "\n",
    "for target in targets:\n",
    "\n",
    "  # We have to check whether we pass the number or the designation as the\n",
    "  # MPC reports \"designation: None\" as soon as an object is numbered\n",
    "  data = SBDB.query(target['designation'] if target['designation'] is not None else target['number'], phys=True)\n",
    "\n",
    "  # Check if albedo is known\n",
    "  if 'albedo' in data['phys_par']:\n",
    "      albedos.append((data['object']['fullname'], data['phys_par']['albedo']))\n",
    "\n",
    "print(len(albedos))\n",
    "print(albedos)"
   ]
  },
  {
   "cell_type": "markdown",
   "id": "2230522b",
   "metadata": {},
   "source": [
    "Well, we cannot do much with that, but you get the idea.\n",
    "\n",
    "### Dynamical physical groups and the art of good code syntax\n",
    "\n",
    "We see that we can get different data with `astroquery`,\n",
    "making it a great package especially when you want to combine results from\n",
    "different services. The uniform syntax to query different services helps getting started.\n",
    "\n",
    "There are two points that we might improve upon. First, while we can\n",
    "dynamically define objects-of-interest based on orbital parameters with the\n",
    "MPC-SBDB combination, we cannot do so based on physical parameters (\"Give me\n",
    "all B-types in the Themis family\"). There is simply no service in the `astroquery` universe\n",
    "*for now* that offers this.\n",
    "\n",
    "Second, the response to our queries are typically `astropy` tables, `pandas`\n",
    "dataframes or dictionaries. This leads you to think about your analysis in\n",
    "terms of table rows and columns (\"The data I need is in row 4 column 'albedo'\",\n",
    "\"I need to access the cells where the row matches this condition\"), which\n",
    "translates into uncomfortable coding and analysis. The same goes for\n",
    "dictionaries: As we see in the code above, it is rather tedious to access the\n",
    "nested values that we are interested in. Instead, we want to think and write code\n",
    "that resembles more our language: \"Give me the albedo of Vesta\". This is a core concept\n",
    "of *object-oriented programming* - we will see this in action now.\n",
    "\n",
    "*(Granted, the second point is somewhat subjective, but I (MM) am writing this tutorial, so I get to decide\n",
    "what to put here)*\n",
    "\n",
    "We pass on to the second package, `rocks`\n",
    "\n",
    "## `rocks` - client for SsODNet"
   ]
  },
  {
   "cell_type": "markdown",
   "id": "100506cd",
   "metadata": {},
   "source": [
    "`rocks` is the `python` interface of the\n",
    "[SsODNet](https://ssp.imcce.fr/webservices/ssodnet) services of the IMCCE. Like\n",
    "`astroquery`, it takes care of the connection to the server via the API,\n",
    "greatly facilitating the queries. Unlike `astroquery`, it also transforms the\n",
    "server results and presents them in a way that is better suited for the\n",
    "scripted analysis: as a `python` class object, the `Rock`. We will see the\n",
    "benefits of this below.\n",
    "\n",
    "Let's see an example. To get data on a given object, you pass the name, number,\n",
    "or designation to the `Rock` class."
   ]
  },
  {
   "cell_type": "code",
   "execution_count": null,
   "id": "dd3cd02b",
   "metadata": {},
   "outputs": [],
   "source": [
    "import rocks\n",
    "\n",
    "# retrieve and ingest ssoCard of (1) Ceres\n",
    "ceres = rocks.Rock(1)\n",
    "\n",
    "ceres"
   ]
  },
  {
   "cell_type": "markdown",
   "id": "e37a65c2",
   "metadata": {},
   "source": [
    "Behind the scenes, `rocks` identified our object of interest as (1) Ceres and\n",
    "downloaded its [ssoCard](https://ssp.imcce.fr/webservices/ssodnet/api/ssocard),\n",
    "i.e. the best estimates of a large number of physical and dynamical parameters.\n",
    "You can access this data via the dot-notation."
   ]
  },
  {
   "cell_type": "code",
   "execution_count": null,
   "id": "593d14a9",
   "metadata": {},
   "outputs": [],
   "source": [
    "print(ceres.name)\n",
    "print(ceres.number)\n",
    "print(ceres.class_)"
   ]
  },
  {
   "cell_type": "markdown",
   "id": "ee01d9e8",
   "metadata": {},
   "source": [
    "For numerical parameters like the albedo, you can use the `value` attribute to access\n",
    "the albedo itself, and the `error.min` and `error.max` to get the upper and lower errors.\n",
    "Or just `error_` to get the mean of `error.min` and `error.max`."
   ]
  },
  {
   "cell_type": "code",
   "execution_count": null,
   "id": "8ff113ee",
   "metadata": {},
   "outputs": [],
   "source": [
    "print(ceres.albedo.value)\n",
    "print(ceres.albedo.error_)"
   ]
  },
  {
   "cell_type": "markdown",
   "id": "e554dd6c",
   "metadata": {},
   "source": [
    "SsODNet only collects parameters which are supported by a peer-reviewed publication.\n",
    "You can trace the parameter value you use by accessing the `bibref` attribute."
   ]
  },
  {
   "cell_type": "code",
   "execution_count": null,
   "id": "ee5fe167",
   "metadata": {},
   "outputs": [],
   "source": [
    "print(ceres.mass.value)\n",
    "print(ceres.mass.bibref.shortbib)\n",
    "print(ceres.mass.bibref.bibcode)"
   ]
  },
  {
   "cell_type": "markdown",
   "id": "935eeda2",
   "metadata": {},
   "source": [
    "##  Comparison to `astroquery` and SDBD\n",
    "\n",
    "We see that accessing the data is intuitive and requires minimal code. The\n",
    "small body is the principal object that we are working with, rather than being\n",
    "one row in a `pandas.DataFrame` that we have to awkwardly index to access any\n",
    "parameter. This is the benefit of using a specialised library like `rocks` to\n",
    "access a single service. The downside compared to `astroquery` is that `rocks`\n",
    "only connects to SsODNet while `astroquery` offers many more data products.\n",
    "\n",
    "In terms of physical parameters, SsODNet offers more information than the SBDB.\n",
    "Other parameters that are available through `rocks` include the\n",
    "absolute_magnitude, colors, density, diameter, mass, phase function, spin,\n",
    "taxonomy, and thermal inertia. You can have a look at the\n",
    "[documentation](https://rocks.readthedocs.io) to find out more.\n",
    "\n",
    "A downside of `rocks`/SsODNet compared to the SBDB is that currently only\n",
    "asteroids are supported: comets are a work-in-progress.\n",
    "\n",
    "## Many Objects\n",
    "\n",
    "We continue exploring `rocks`. If you have more than one asteroid in mind,\n",
    "you use the `rocks.rocks` function to create many `Rock`s."
   ]
  },
  {
   "cell_type": "code",
   "execution_count": null,
   "id": "b0b51bb4",
   "metadata": {},
   "outputs": [],
   "source": [
    "targets = rocks.rocks(['ceres', 2, '1804 RA', '4'])\n",
    "\n",
    "for target in targets:\n",
    "    print(f\"The mass of ({target.number}) {target.name} is {target.mass.value:.2}+-{target.mass.error_} [{target.mass.bibref.shortbib}].\")"
   ]
  },
  {
   "cell_type": "markdown",
   "id": "83fc6ce4",
   "metadata": {},
   "source": [
    "For fun, let's graph the diameter versus the mass of the first 100 numbered asteroids, and colour-code them by their albedos."
   ]
  },
  {
   "cell_type": "code",
   "execution_count": null,
   "id": "5d42b699",
   "metadata": {},
   "outputs": [],
   "source": [
    "import matplotlib.pyplot as plt\n",
    "\n",
    "# get data of first 100 numbered asteroids\n",
    "targets = rocks.rocks(range(1, 101))\n",
    "\n",
    "# get the parameters that we are interested in\n",
    "diameters = [target.diameter.value for target in targets]\n",
    "masses = [target.mass.value for target in targets]\n",
    "albedos = [target.albedo.value for target in targets]\n",
    "\n",
    "# and plot\n",
    "fig, ax = plt.subplots()\n",
    "\n",
    "scat = ax.scatter(diameters, masses, c=albedos, cmap='cool')\n",
    "ax.set(xlabel='Diameter / km', ylabel='Mass / kg', xscale='log', yscale='log')\n",
    "fig.colorbar(scat, label='Albedo')"
   ]
  },
  {
   "cell_type": "markdown",
   "id": "3e4ed57f",
   "metadata": {},
   "source": [
    "It's not quite ready for a *Nature* paper yet, however, if we planned to publish this, we should of course cite our sources. Below, we loop over our targets and add the bibliographic references of the diameter, mass, and albedo properties to one list."
   ]
  },
  {
   "cell_type": "code",
   "execution_count": null,
   "id": "be2186f9",
   "metadata": {},
   "outputs": [],
   "source": [
    "sources = []\n",
    "\n",
    "for target in targets:\n",
    "    sources += target.diameter.bibref.bibcode\n",
    "    sources += target.albedo.bibref.bibcode\n",
    "    sources += target.mass.bibref.bibcode\n",
    "sources"
   ]
  },
  {
   "cell_type": "markdown",
   "id": "2fd57a5a",
   "metadata": {},
   "source": [
    "There are certainly duplicates in our list of sources. We remove them using the `set()` function."
   ]
  },
  {
   "cell_type": "code",
   "execution_count": null,
   "id": "a3adfd2b",
   "metadata": {},
   "outputs": [],
   "source": [
    "sources = set(sources)\n",
    "print(f\"We have {len(sources)} sources to cite:\")\n",
    "sources"
   ]
  },
  {
   "cell_type": "markdown",
   "id": "510d9b30",
   "metadata": {},
   "source": [
    "From here, we can copy-paste the list of bibcodes into our LaTeX files.\n",
    "\n",
    "We just did an analysis of a lot of objects with a few lines of code, including the often tedious bibliography\n",
    "management. If our targets change, we can update the dynamical definition and just re-run the code to produce\n",
    "all relevant figures and citations. Nice!"
   ]
  },
  {
   "cell_type": "markdown",
   "id": "beec1450",
   "metadata": {},
   "source": [
    "That's it for the basic introduction to getting physical parameters of asteroids and comets with `astroquery` and `rocks`. The advanced\n",
    "part of this tutorial shows how to select many objects based on shared physical properties using `rocks` and a general application of `astroquery` and `rocks` to a catalogue of asteroid observations, while in the expert-level tutorial,\n",
    "we build our own little tool to get meteorite classifications programmatically from the Meteoritical Bulletin."
   ]
  }
 ],
 "metadata": {
  "kernelspec": {
   "display_name": "Python 3 (ipykernel)",
   "language": "python",
   "name": "python3"
  },
  "language_info": {
   "codemirror_mode": {
    "name": "ipython",
    "version": 3
   },
   "file_extension": ".py",
   "mimetype": "text/x-python",
   "name": "python",
   "nbconvert_exporter": "python",
   "pygments_lexer": "ipython3",
   "version": "3.12.0"
  }
 },
 "nbformat": 4,
 "nbformat_minor": 5
}
