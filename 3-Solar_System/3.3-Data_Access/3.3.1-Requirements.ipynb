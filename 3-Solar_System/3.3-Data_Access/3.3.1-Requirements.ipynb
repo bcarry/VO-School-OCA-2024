{
 "cells": [
  {
   "cell_type": "markdown",
   "metadata": {},
   "source": [
    "# Simple notebook to test packages\n",
    "\n",
    "The purpose of the tutorial is to see if you have all the required packages to follow the tutorials.\n",
    "\n",
    "If the cells below runs, you're good!\n",
    "\n",
    "Otherwise, install the requested packages, as appropriate.\n",
    "\n",
    "NB: It is always recommended to work in specific virtual environments in python...\n"
   ]
  },
  {
   "cell_type": "code",
   "execution_count": 1,
   "metadata": {},
   "outputs": [],
   "source": [
    "# Generic modules\n",
    "import os\n",
    "import wget\n",
    "import json\n",
    "import requests\n",
    "import time\n",
    "\n",
    "from tqdm import tqdm  # for progress bars\n",
    "from pprint import pprint  # the pretty-printer for more readable output"
   ]
  },
  {
   "cell_type": "code",
   "execution_count": 2,
   "metadata": {},
   "outputs": [],
   "source": [
    "# Math and data handling\n",
    "import numpy as np\n",
    "import pandas as pd"
   ]
  },
  {
   "cell_type": "code",
   "execution_count": 3,
   "metadata": {},
   "outputs": [],
   "source": [
    "# Plotting\n",
    "import matplotlib.pyplot as plt\n",
    "import matplotlib.projections"
   ]
  },
  {
   "cell_type": "code",
   "execution_count": null,
   "metadata": {},
   "outputs": [],
   "source": [
    "# Planetary sciences\n",
    "import rocks\n",
    "from astroquery.mpc import MPC\n",
    "from astroquery.jplsbdb import SBDB\n",
    "from sbpy.photometry import HG"
   ]
  }
 ],
 "metadata": {
  "kernelspec": {
   "display_name": "astro",
   "language": "python",
   "name": "python3"
  },
  "language_info": {
   "codemirror_mode": {
    "name": "ipython",
    "version": 3
   },
   "file_extension": ".py",
   "mimetype": "text/x-python",
   "name": "python",
   "nbconvert_exporter": "python",
   "pygments_lexer": "ipython3",
   "version": "3.12.0"
  }
 },
 "nbformat": 4,
 "nbformat_minor": 2
}
