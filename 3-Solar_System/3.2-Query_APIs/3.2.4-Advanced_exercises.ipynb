{
 "cells": [
  {
   "cell_type": "markdown",
   "metadata": {},
   "source": [
    "# More examples of useful tools for Solar System Objects"
   ]
  },
  {
   "cell_type": "markdown",
   "metadata": {},
   "source": [
    "Let's explore more tools, with the following two small exercices\n",
    "\n",
    "\n",
    "### Ex1. Map the Solar System\n",
    "\n",
    "We have seen in the previous notebook how to access the ephemerides of objects. We did it for a couple of objects. But what if we want to know the position of **all** of them? Requesting thousands of time an ephemeris may not be the most efficient solution.\n",
    "\n",
    "Let's use the [**SkyBoT 3D**](https://ssp.imcce.fr/webservices/skybot3d/) service of the [IMCCE](https://www.imcce.fr) for that:\n",
    "- Query SkyBot 3D for Apollo \n",
    "- Plot their position in ecliptic cartesian (x,y) coordinates\n",
    "\n",
    "*Pro tip:* many services have keywords limiting the size of the answer (here the <kbd>limit</kbd> parameter). Use them when developping your code (e.g., limiting to 10, 50, or 100 objects per query) to avoid saturating services.\n",
    "\n"
   ]
  },
  {
   "cell_type": "code",
   "execution_count": 1,
   "metadata": {},
   "outputs": [],
   "source": [
    "# Code here"
   ]
  },
  {
   "cell_type": "markdown",
   "metadata": {},
   "source": [
    "### Ex2. Get ready for LSST!\n",
    "\n",
    "The [Legacy Survey of Space and Time](https://www.lsst.org/) of the Vera C. Rubin observatory will run for a decade, starting in 2025, and is expected to discover several millions of small bodies of the Solar System (asteroids, comets, KBOs, ...). LSST will stream a flux of alerts in near real-time, and [*brokers*](https://www.lsst.org/scientists/alert-brokers) have been set up to process and release this tremendous data set.\n",
    "Let's use one of them to get data on an asteroid (obtained by [ZTF](https://www.ztf.caltech.edu/), a precursor of LSST) and use sbpy to check the photometric behavior.\n",
    "\n",
    "- Retrieve the observations of asteroid number 8253 from [FINK](https://fink-portal.org/)\n",
    "- Using the heliocentric and range to observer, reduced the apparent magnitude to unit distances\n",
    "- Plot the reduced magnitude for each filter (*g* and *r*) as function of the phase angle\n",
    "- Use [sbpy](https://sbpy.org/) to overplot the expected HG phase function, using (H,G) = (15.4,0.15)"
   ]
  },
  {
   "cell_type": "code",
   "execution_count": 2,
   "metadata": {},
   "outputs": [],
   "source": [
    "# Code here"
   ]
  },
  {
   "cell_type": "markdown",
   "metadata": {},
   "source": [
    "<br><br><br><br><br><br><br><br>\n",
    "As in previous notebook, examples of solutions are presented below **BUT** the best (only?) way to learn is to **try yourself**!\n",
    "<br><br><br><br><br><br><br><br>\n",
    "\n",
    "\n",
    "Anyway, scroll a bit more and follow the white rabbit...\n",
    "<br><br><br><br><br><br><br><br>"
   ]
  },
  {
   "cell_type": "code",
   "execution_count": 3,
   "metadata": {},
   "outputs": [],
   "source": [
    "import io\n",
    "import requests\n",
    "import json\n",
    "\n",
    "import rocks\n",
    "import pandas as pd\n",
    "\n",
    "import numpy as np\n",
    "import matplotlib.pyplot as plt\n",
    "import matplotlib.projections"
   ]
  },
  {
   "cell_type": "markdown",
   "metadata": {},
   "source": [
    "### Ex1. Map the Solar System\n",
    "\n",
    "Reminder\n",
    "- Query [SkyBot 3D](https://ssp.imcce.fr/webservices/skybot3d/) for Apollo \n",
    "- Plot their position in ecliptic cartesian (x,y) coordinates\n",
    "\n",
    "We need first to look at the documentation. There are several access points, for comets, asteroids... so let's use the <kbd>getAster</kbd> method to retrieve NEAs. Then, it is only a matter of setting a dictionary with the parameters for <kbd>requests</kbd> to do it for us!"
   ]
  },
  {
   "cell_type": "code",
   "execution_count": 4,
   "metadata": {},
   "outputs": [],
   "source": [
    "# Service URL\n",
    "url = \"https://ssp.imcce.fr/webservices/skybot3d/api/getAster.php?\"\n",
    "\n",
    "# Query parameters\n",
    "params = {\n",
    "    \"-ep\": \"2024-01-01\",\n",
    "    \"-class\": \"NEA>Apollo\",\n",
    "    \"-limit\": \"1000\",\n",
    "    \"-mime\": \"json\",\n",
    "    \"-coord\": \"rectangular\",\n",
    "    \"-getFile\": 1,\n",
    "    \"-from\": \"Student_at_Les_Houches\",\n",
    "}\n",
    "\n",
    "# Query the service\n",
    "try:\n",
    "    r = requests.post(url, params=params, timeout=2000)\n",
    "except requests.exceptions.ReadTimeout:\n",
    "    print(\"Request timed out\")\n",
    "\n",
    "# Convert the json results into a python dictionary\n",
    "result = json.loads(r.content)\n",
    "\n",
    "# Get results in a pandas DataFrame: the json does not contain the column names, but the documentation does\n",
    "ssos = pd.DataFrame(result[\"asteroids\"])\n",
    "ssos.columns = [\n",
    "    \"id\",\n",
    "    \"px\",\n",
    "    \"py\",\n",
    "    \"pz\",\n",
    "    \"vx\",\n",
    "    \"vy\",\n",
    "    \"vz\",\n",
    "    \"H\",\n",
    "    \"G\",\n",
    "    \"class\",\n",
    "    \"name\",\n",
    "    \"diameter\",\n",
    "    \"sso_type\",\n",
    "]"
   ]
  },
  {
   "cell_type": "code",
   "execution_count": null,
   "metadata": {},
   "outputs": [],
   "source": [
    "# Plot elevation curves\n",
    "fig, ax = plt.subplots()\n",
    "\n",
    "# The Sun!\n",
    "ax.scatter(0, 0, marker=\"*\", s=100, color=\"orange\", label=\"Sun\")\n",
    "\n",
    "# --------------------------------------------------------------------------------\n",
    "# Plot the trajectory\n",
    "ax.scatter(ssos[\"px\"], ssos[\"py\"], label=\"NEAs\", s=4)\n",
    "\n",
    "# --------------------------------------------------------------------------------\n",
    "# Set up axes\n",
    "ax.set_xlabel(\"Ecliptic X (au)\")\n",
    "ax.set_ylabel(\"Ecliptic Y (au)\")\n",
    "ax.set_aspect(\"equal\")\n",
    "ax.set_xlim(-7, 7)\n",
    "ax.legend(loc=\"upper right\")"
   ]
  },
  {
   "cell_type": "markdown",
   "metadata": {},
   "source": [
    "Voila!\n",
    "\n",
    "This can be used to create nice viewgraphs of the inner or outer Solar System."
   ]
  },
  {
   "cell_type": "markdown",
   "metadata": {},
   "source": [
    "### Ex2. Get ready for LSST!\n",
    "\n",
    "Reminder:\n",
    "- Retrieve the observations of asteroid number 8253 from [FINK](https://fink-portal.org/)\n",
    "- Using the heliocentric and range to observer, reduced the apparent magnitude to unit distances\n",
    "- Plot the reduced magnitude for each filter (*g* and *r*) as function of the phase angle\n",
    "- Use [sbpy](https://sbpy.org/) to overplot the expected HG phase function, using (H,G) = (15.4,0.15)\n",
    "\n",
    "\n",
    "After a look at FINK, there is a Web interface where objects (including Solar System) can be queried, but **better**! there are [**APIs**](https://fink-portal.org/api)! One is dedicated to Solar System : <kbd>Solar System objects from MPC</kbd>. \n",
    "Querying it should look like:"
   ]
  },
  {
   "cell_type": "code",
   "execution_count": 6,
   "metadata": {},
   "outputs": [],
   "source": [
    "import io\n",
    "\n",
    "# Get data from FINK API\n",
    "r = requests.post(\n",
    "    \"https://fink-portal.org/api/v1/sso\",\n",
    "    json={\"n_or_d\": \"8253\", \"withEphem\": True, \"output-format\": \"json\"},\n",
    ")\n",
    "\n",
    "# Format output in a DataFrame\n",
    "ztf = pd.read_json(io.BytesIO(r.content))"
   ]
  },
  {
   "cell_type": "markdown",
   "metadata": {},
   "source": [
    "Inspect the created DataFrame. There are a lot of columns! Good news, they are [all described](https://fink-portal.org/api/v1/columns).\n",
    "\n",
    "Let's create a <kbd>reduced_mag</kbd> column and then plot it "
   ]
  },
  {
   "cell_type": "code",
   "execution_count": 7,
   "metadata": {},
   "outputs": [],
   "source": [
    "# Reduction to unit distance\n",
    "ztf[\"reduced_mag\"] = ztf[\"i:magpsf\"] - 5 * np.log10(ztf[\"Dobs\"] * ztf[\"Dhelio\"])"
   ]
  },
  {
   "cell_type": "code",
   "execution_count": null,
   "metadata": {},
   "outputs": [],
   "source": [
    "fig, ax = plt.subplots()\n",
    "\n",
    "# Splitting data in two filters\n",
    "filt_g = ztf[\"i:fid\"] == 1\n",
    "filt_r = ztf[\"i:fid\"] == 2\n",
    "\n",
    "# Plot magnitude vs phase\n",
    "ax.scatter(ztf.loc[filt_g, \"Phase\"], ztf.loc[filt_g, \"reduced_mag\"], label=\"g\")\n",
    "ax.scatter(ztf.loc[filt_r, \"Phase\"], ztf.loc[filt_r, \"reduced_mag\"], label=\"r\")\n",
    "\n",
    "# Set up axes\n",
    "ax.set_xlabel(\"Phase (deg)\")\n",
    "ax.set_ylabel(\"Reduced magnitude\")\n",
    "ax.invert_yaxis()\n",
    "ax.legend(loc=\"lower left\")"
   ]
  },
  {
   "cell_type": "markdown",
   "metadata": {},
   "source": [
    "The graph shows the well-known photometry behavior as function of phase. To overplot the theoretical phase function, we need the definition of its components. These are easily available thanks to [sbpy](https://sbpy.org/), in its [<kbd>photometry</kbd>](https://sbpy.readthedocs.io/en/stable/sbpy/photometry.html#disk-integrated-phase-function-models) module:"
   ]
  },
  {
   "cell_type": "code",
   "execution_count": null,
   "metadata": {},
   "outputs": [],
   "source": [
    "from sbpy.photometry import HG\n",
    "\n",
    "# Define the HG parameters\n",
    "G = 0.15\n",
    "H = 15.38\n",
    "\n",
    "# Build a phase angle array from 0 to 30 degrees\n",
    "ph = np.linspace(0, np.radians(30), num=100)\n",
    "\n",
    "# Compute the phase function\n",
    "phase_func = -2.5 * np.log10((1 - G) * HG._hgphi(ph, 1) + G * HG._hgphi(ph, 2))"
   ]
  },
  {
   "cell_type": "markdown",
   "metadata": {},
   "source": [
    "Merci sbpy!"
   ]
  },
  {
   "cell_type": "code",
   "execution_count": null,
   "metadata": {},
   "outputs": [],
   "source": [
    "fig, ax = plt.subplots()\n",
    "\n",
    "# Splitting data in two filters\n",
    "filt_g = ztf[\"i:fid\"] == 1\n",
    "filt_r = ztf[\"i:fid\"] == 2\n",
    "\n",
    "# Plot magnitude vs phase\n",
    "ax.scatter(ztf.loc[filt_g, \"Phase\"], ztf.loc[filt_g, \"reduced_mag\"], label=\"g\")\n",
    "ax.scatter(ztf.loc[filt_r, \"Phase\"], ztf.loc[filt_r, \"reduced_mag\"], label=\"r\")\n",
    "\n",
    "# Overplot the phase function\n",
    "ax.plot(np.degrees(ph), phase_func + H, color=\"black\", label=\"HG model\")\n",
    "\n",
    "\n",
    "# Set up axes\n",
    "ax.set_xlabel(\"Phase (deg)\")\n",
    "ax.set_ylabel(\"Reduced magnitude\")\n",
    "ax.invert_yaxis()\n",
    "ax.legend(loc=\"lower left\")"
   ]
  },
  {
   "cell_type": "markdown",
   "metadata": {},
   "source": [
    "Any idea why there is a vertical shift between the two filters?"
   ]
  }
 ],
 "metadata": {
  "kernelspec": {
   "display_name": "astro",
   "language": "python",
   "name": "python3"
  },
  "language_info": {
   "codemirror_mode": {
    "name": "ipython",
    "version": 3
   },
   "file_extension": ".py",
   "mimetype": "text/x-python",
   "name": "python",
   "nbconvert_exporter": "python",
   "pygments_lexer": "ipython3",
   "version": "3.12.0"
  }
 },
 "nbformat": 4,
 "nbformat_minor": 2
}
