{
 "cells": [
  {
   "cell_type": "markdown",
   "metadata": {},
   "source": [
    "# Computing ephemerides of Solar System Objects\n",
    "\n",
    "The purpose of this nootbok is to practice at querying API (Application Public Interface) of Solar System services.\n",
    "\n",
    "We will use the generation of ephemerides as example, with two different services:\n",
    "- [**Miriade**](https://ssp.imcce.fr/webservices/miriade) of the [IMCCE](https://www.imcce.fr/), directly from the API\n",
    "- [**Ephemeris Service**](https://www.minorplanetcenter.net/iau/MPEph/MPEph.html) of the [Minor Planet Center](https://minorplanetcenter.net/), through an [`astroquery`](https://astroquery.readthedocs.io/en/latest/) wrapper\n",
    "\n",
    "Other similar services exist and can be queried programmatically:\n",
    "- [**Horizons**](https://ssd.jpl.nasa.gov/horizons/) from [JPL SSD](https://ssd.jpl.nasa.gov/): from their [API](https://ssd-api.jpl.nasa.gov/doc/horizons.html) or with an [`astroquery`](https://astroquery.readthedocs.io/en/latest/) [wrapper](https://astroquery.readthedocs.io/en/latest/jplhorizons/jplhorizons.html)\n",
    "- [**Miriade**](https://ssp.imcce.fr/webservices/miriade) from the [IMCCE](https://www.imcce.fr/), using the [`astroquery`](https://astroquery.readthedocs.io/en/latest/) [wrapper](https://astroquery.readthedocs.io/en/latest/imcce/imcce.html#miriade-ephemeris-service) this time\n"
   ]
  },
  {
   "cell_type": "code",
   "execution_count": null,
   "metadata": {},
   "outputs": [],
   "source": [
    "import os\n",
    "import io\n",
    "import requests\n",
    "import json\n",
    "from astropy.coordinates import Angle\n",
    "\n",
    "import rocks\n",
    "import pandas as pd\n",
    "import time as t\n",
    "\n",
    "import numpy as np\n",
    "import matplotlib.pyplot as plt\n",
    "import matplotlib.projections\n",
    "\n",
    "from astropy.coordinates import SkyCoord\n",
    "\n",
    "from astroquery.mpc import MPC"
   ]
  },
  {
   "cell_type": "markdown",
   "metadata": {},
   "source": [
    "## Define the parameters of the query\n",
    "\n",
    "We define here the targets we want to observe, when, for how many epochs, separated by a time step, *etc*"
   ]
  },
  {
   "cell_type": "code",
   "execution_count": 2,
   "metadata": {},
   "outputs": [],
   "source": [
    "# When we observe\n",
    "epoch = \"2024-01-01T00:00:00\"\n",
    "nbd = 180\n",
    "step = \"5d\"\n",
    "\n",
    "# What we observe\n",
    "targets = [\"Pallas\", 3, \"vesta\", \"2003 EL61\"]\n",
    "\n",
    "# Where are we observing from\n",
    "observer = (\n",
    "    \"309\"  # Paranal, see https://www.minorplanetcenter.net/iau/lists/ObsCodesF.html\n",
    ")"
   ]
  },
  {
   "cell_type": "markdown",
   "metadata": {},
   "source": [
    "## 1. Direct API query on IMCCE/Miriade"
   ]
  },
  {
   "cell_type": "code",
   "execution_count": null,
   "metadata": {},
   "outputs": [],
   "source": [
    "# Service URL\n",
    "url = \"https://ssp.imcce.fr/webservices/miriade/api/ephemcc.php?\"\n",
    "\n",
    "\n",
    "# Query parameters\n",
    "# The request package that we will use will create the full URL for us from the dictionary below\n",
    "params = {\n",
    "    \"-name\": targets[0],\n",
    "    \"-ep\": epoch,\n",
    "    \"-nbd\": nbd,\n",
    "    \"-step\": step,\n",
    "    \"-mime\": \"json\",\n",
    "    \"-observer\": observer,\n",
    "    \"-tscale\": \"UTC\",\n",
    "    \"-from\": \"Student_at_Les_Houches\",\n",
    "}\n",
    "\n",
    "# Update the target of the query with its latest designation\n",
    "# It is a safety step, to avoid issues\n",
    "ids = rocks.id(targets[0])\n",
    "params[\"-name\"] = ids[0]\n",
    "\n",
    "# Query the service\n",
    "try:\n",
    "    r = requests.post(url, params=params, timeout=2000)\n",
    "except requests.exceptions.ReadTimeout:\n",
    "    print(\"Request timed out\")\n",
    "\n",
    "# Convert the json results into a python dictionary\n",
    "result = json.loads(r.content)\n",
    "\n",
    "# Get ephemerides in a pandas DataFrame\n",
    "eph = pd.DataFrame.from_dict(result[\"data\"])\n",
    "\n",
    "# Convert RA/Dec from hours/degrees to degrees\n",
    "coords = SkyCoord(eph[\"RA\"], eph[\"DEC\"], unit=(\"hour\", \"deg\"))\n",
    "eph[\"RA_deg\"] = coords.ra.degree\n",
    "eph[\"DEC_deg\"] = coords.dec.degree\n",
    "\n",
    "# Plot the trajectory\n",
    "fig, ax = plt.subplots()\n",
    "ax.scatter(eph[\"RA_deg\"], eph[\"DEC_deg\"], label=targets[0])\n",
    "ax.set_xlabel(\"Right Ascension (deg)\")\n",
    "ax.set_ylabel(\"Declination (deg)\")\n",
    "ax.grid()\n",
    "ax.legend()"
   ]
  },
  {
   "cell_type": "markdown",
   "metadata": {},
   "source": [
    "The result of the query contains several items, including information on the SSO, the signification of each columns, the unit, the reference frame, *etc*, see the different keys of the dictionary:"
   ]
  },
  {
   "cell_type": "code",
   "execution_count": null,
   "metadata": {},
   "outputs": [],
   "source": [
    "result.keys()"
   ]
  },
  {
   "cell_type": "code",
   "execution_count": null,
   "metadata": {},
   "outputs": [],
   "source": [
    "result[\"sso\"]"
   ]
  },
  {
   "cell_type": "code",
   "execution_count": null,
   "metadata": {},
   "outputs": [],
   "source": [
    "result[\"unit\"]"
   ]
  },
  {
   "cell_type": "markdown",
   "metadata": {},
   "source": [
    "etc.\n",
    "\n",
    "We can easily script this for several targets"
   ]
  },
  {
   "cell_type": "code",
   "execution_count": null,
   "metadata": {},
   "outputs": [],
   "source": [
    "fig, ax = plt.subplots()\n",
    "\n",
    "for i, sso in enumerate(targets):\n",
    "    # Update the target of the query, but check first its designation\n",
    "    ids = rocks.id(sso)\n",
    "    params[\"-name\"] = ids[0]\n",
    "\n",
    "    # Query the service\n",
    "    t0 = t.time()\n",
    "    try:\n",
    "        r = requests.post(url, params=params, timeout=2000)\n",
    "    except requests.exceptions.ReadTimeout:\n",
    "        print(\"Request timed out\")\n",
    "    t1 = t.time()\n",
    "    print(f\"Request of ephemerides for {ids[0]} took {t1-t0:.1f} seconds\")\n",
    "\n",
    "    # Convert the json results into a python dictionary\n",
    "    result = json.loads(r.content)\n",
    "\n",
    "    # Get ephemerides in a pandas DataFrame\n",
    "    eph = pd.DataFrame.from_dict(result[\"data\"])\n",
    "\n",
    "    # Convert RA/Dec from hours/degrees to degrees\n",
    "    coords = SkyCoord(eph[\"RA\"], eph[\"DEC\"], unit=(\"hour\", \"deg\"))\n",
    "    eph[\"RA_deg\"] = coords.ra.degree\n",
    "    eph[\"DEC_deg\"] = coords.dec.degree\n",
    "\n",
    "    # Plot the trajectory\n",
    "    ax.scatter(eph[\"RA_deg\"], eph[\"DEC_deg\"], s=4, label=params[\"-name\"])\n",
    "\n",
    "# Set up axes\n",
    "ax.set_xlabel(\"Right Ascension (deg)\")\n",
    "ax.set_ylabel(\"Declination (deg)\")\n",
    "ax.grid()\n",
    "ax.legend()"
   ]
  },
  {
   "cell_type": "markdown",
   "metadata": {},
   "source": [
    "Whenever you want to use an API, have a quick look at the documentation to see what it can do and how to use it!\n",
    "In the present case of Miriade, the documentation is available at https://ssp.imcce.fr/webservices/miriade/api/ephemcc/\n",
    "\n",
    "For instance, you can easily switch to **ecliptic** coordinates (*rplane* keyword), change the list of reported columns ([*tcoor* keyword](https://ssp.imcce.fr/webservices/miriade/api/ephemcc/#output-results)), compute magnitude in different filters ([*colors* keyword](https://ssp.imcce.fr/webservices/miriade/howto/ephemcc/#howto-filters)), even in the thermal infrared\n",
    "([*thermalFlux* keyword](https://ssp.imcce.fr/webservices/miriade/howto/ephemcc/#howto-thermalflux))."
   ]
  },
  {
   "cell_type": "markdown",
   "metadata": {},
   "source": [
    "## 2. Using astroquery wrapper to query MPC"
   ]
  },
  {
   "cell_type": "markdown",
   "metadata": {},
   "source": [
    "In the example above, we used the `requests` module to directly interact with the API. We are in full control of what we query.\n",
    "\n",
    "In some cases, someone already developped a python interface to the service, as illustrated below, thanks to [`astroquery`](https://astroquery.readthedocs.io/en/latest/). \n",
    "\n",
    "Depending on his/her needs, available time, coding capacities, *etc*, one may choose either of these two approaches."
   ]
  },
  {
   "cell_type": "code",
   "execution_count": null,
   "metadata": {},
   "outputs": [],
   "source": [
    "# Update the target of the query, but check first its designation\n",
    "ids = rocks.id(targets[0])\n",
    "\n",
    "t0 = t.time()\n",
    "try:\n",
    "    eph = MPC.get_ephemeris(\n",
    "        ids[0], step=step, start=epoch, number=nbd, location=observer\n",
    "    )\n",
    "except requests.exceptions.ReadTimeout:\n",
    "    print(\"Request timed out\")\n",
    "t1 = t.time()\n",
    "print(f\"Request of ephemerides for {ids[0]} took {t1-t0:.1f} seconds\")"
   ]
  },
  {
   "cell_type": "markdown",
   "metadata": {},
   "source": [
    "The result here is an [`astropy`](https://www.astropy.org/) [Table](https://docs.astropy.org/en/stable/table/) object. It is in essence a matrix, that can be accessed by rows/columns. Each column is a [`Quantity`](https://docs.astropy.org/en/stable/api/astropy.units.Quantity.html#astropy.units.Quantity): it has a unit."
   ]
  },
  {
   "cell_type": "code",
   "execution_count": null,
   "metadata": {},
   "outputs": [],
   "source": [
    "# Show first four rows\n",
    "eph[:4]"
   ]
  },
  {
   "cell_type": "markdown",
   "metadata": {},
   "source": [
    "An advantage of using a community-supported wrapper is that you do not have to figure out how to build the query nor how to decode the answer."
   ]
  },
  {
   "cell_type": "code",
   "execution_count": null,
   "metadata": {},
   "outputs": [],
   "source": [
    "# Plot the trajectory\n",
    "fig, ax = plt.subplots()\n",
    "ax.scatter(eph[\"RA\"], eph[\"Dec\"], label=ids[0])\n",
    "ax.set_xlabel(\"Right Ascension (deg)\")\n",
    "ax.set_ylabel(\"Declination (deg)\")\n",
    "ax.grid()\n",
    "ax.legend()"
   ]
  },
  {
   "cell_type": "markdown",
   "metadata": {},
   "source": [
    "## Exercices"
   ]
  },
  {
   "cell_type": "markdown",
   "metadata": {},
   "source": [
    "### Ex1. Plan your night of observations \n",
    "\n",
    "Let's start with a simple exercice, simply changing some parameters. Get the ephemerides for\n",
    "- KBO Haumea\n",
    "- On the night of 2024, February the 10th\n",
    "- From La Silla observatory\n",
    "- With local coordinates (azimuth and elevation)\n",
    "- With a time step between points of 5 minutes\n",
    "- (optional) Plot the elevation of the target as function of time"
   ]
  },
  {
   "cell_type": "code",
   "execution_count": 11,
   "metadata": {},
   "outputs": [],
   "source": [
    "# Code here"
   ]
  },
  {
   "cell_type": "markdown",
   "metadata": {},
   "source": [
    "### Ex2. Cartesian coodinates\n",
    "\n",
    "You are interested in the geometry of encounter between your favorite space mission (e.g. [Lucy](https://science.nasa.gov/mission/lucy/)) and a flyby target (e.g., [Patroclus](https://ssp.imcce.fr/forms/ssocard/Patroclus)). In such case, you would need the position of the target in heliocentric cartesian coordinates.\n",
    "\n",
    "- Compute the trajectory of asteroids Patroclus from 2020 to 2030 in heliocentric ecliptic cartesian coordinates using Miriade.\n",
    "- Plot its trajectory in a ecliptic (x,y) plane.\n",
    "- (optional) Overplot the motion of planets Earth and Jupiter over the same time period\n",
    "- (optional) Overplot the motion of the comet 67P/Churyumov–Gerasimenko"
   ]
  },
  {
   "cell_type": "code",
   "execution_count": 12,
   "metadata": {},
   "outputs": [],
   "source": [
    "# Code here!"
   ]
  },
  {
   "cell_type": "markdown",
   "metadata": {},
   "source": [
    "<br><br><br><br><br><br><br><br>\n",
    "Solutions comes here below\n",
    "<br><br><br><br><br>\n",
    "Don't look at the solutions without trying yourself!\n",
    "<br><br><br><br>\n",
    "\n",
    "<br><br><br><br>\n",
    "Ready?\n",
    "\n",
    "<br><br><br><br>\n",
    "Not cheating?\n"
   ]
  },
  {
   "cell_type": "markdown",
   "metadata": {},
   "source": [
    "### Solution Ex1. Plan your night of observations \n",
    "\n",
    "Let's start with a simple exercice, simply changing some parameters. Get the ephemerides for\n",
    "- KBO Haumea\n",
    "- On the night of 2024, February the 10th\n",
    "- From La Silla observatory\n",
    "- With local coordinates (azimuth and elevation)\n",
    "- With a time step between points of 5 minutes\n",
    "- (optional) Plot the elevation of the target as function of time"
   ]
  },
  {
   "cell_type": "markdown",
   "metadata": {},
   "source": [
    "The same with the planets!"
   ]
  },
  {
   "cell_type": "code",
   "execution_count": 13,
   "metadata": {},
   "outputs": [],
   "source": [
    "# Service URL\n",
    "url = \"https://ssp.imcce.fr/webservices/miriade/api/ephemcc.php?\"\n",
    "\n",
    "\n",
    "# Query parameters\n",
    "params = {\n",
    "    \"-name\": \"Haumea\",\n",
    "    \"-ep\": \"2024-02-10\",\n",
    "    \"-nbd\": (60 / 5) * 24,\n",
    "    \"-step\": \"5min\",\n",
    "    \"-mime\": \"json\",\n",
    "    \"-observer\": \"809\",\n",
    "    \"-tcoor\": 5,\n",
    "    \"-tscale\": \"UTC\",\n",
    "    \"-output\": \"--jd\",\n",
    "    \"-from\": \"Student_at_Les_Houches\",\n",
    "}\n",
    "\n",
    "# Query the service\n",
    "try:\n",
    "    r = requests.post(url, params=params, timeout=2000)\n",
    "except requests.exceptions.ReadTimeout:\n",
    "    print(\"Request timed out\")\n",
    "\n",
    "# Convert the json results into a python dictionary\n",
    "result = json.loads(r.content)\n",
    "\n",
    "# Get ephemerides in a pandas DataFrame\n",
    "eph = pd.DataFrame.from_dict(result[\"data\"])"
   ]
  },
  {
   "cell_type": "code",
   "execution_count": null,
   "metadata": {},
   "outputs": [],
   "source": [
    "# Plot elevation curves\n",
    "fig, ax = plt.subplots(1, 2, figsize=(15, 5), gridspec_kw={\"width_ratios\": [2, 1]})\n",
    "\n",
    "# Object is above the horizon\n",
    "cond = eph[\"H\"] > 0\n",
    "\n",
    "# Plot the elevation as function of time\n",
    "ax[0].scatter(\n",
    "    eph.loc[cond, \"Date\"],\n",
    "    eph.loc[cond, \"H\"],\n",
    "    label=params[\"-name\"] + \"(above horizon)\",\n",
    "    s=4,\n",
    ")\n",
    "ax[0].scatter(\n",
    "    eph.loc[~cond, \"Date\"],\n",
    "    eph.loc[~cond, \"H\"],\n",
    "    label=params[\"-name\"] + \"(below)\",\n",
    "    color=\"grey\",\n",
    "    s=4,\n",
    ")\n",
    "\n",
    "# Plot the path on the sky\n",
    "ax[1].remove()\n",
    "ax[1] = fig.add_subplot(1, 2, 2, projection=\"polar\")\n",
    "ax[1].scatter(\n",
    "    np.radians(eph.loc[cond, \"Az\"]), eph.loc[cond, \"H\"], label=params[\"-name\"], s=4\n",
    ")\n",
    "ax[1].set_ylim(90, 0)\n",
    "ax[1].set_theta_zero_location(\"S\")\n",
    "\n",
    "# Set up axes\n",
    "ax[0].set_xlabel(\"Time (JD)\")\n",
    "ax[0].set_ylabel(\"Elevation (deg)\")\n",
    "ax[0].grid()\n",
    "ax[0].legend()\n",
    "ax[1].set_xlabel(\"Azimuth (deg)\")"
   ]
  },
  {
   "cell_type": "markdown",
   "metadata": {},
   "source": [
    "### Ex2. Cartesian coodinates\n",
    "\n",
    "You are interested in the geometry of encounter between your favorite space mission (e.g. [Lucy](https://science.nasa.gov/mission/lucy/)) and a flyby target (e.g., [Patroclus](https://ssp.imcce.fr/forms/ssocard/Patroclus)). In such case, you would need the position of the target in heliocentric cartesian coordinates.\n",
    "\n",
    "- Compute the trajectory of asteroids Patroclus from 2020 to 2030 in heliocentric ecliptic cartesian coordinates using Miriade.\n",
    "- Plot its trajectory in a ecliptic (x,y) plane.\n",
    "- (optional) Overplot the motion of planets Earth and Jupiter over the same time period\n",
    "- (optional) Overplot the motion of the comet 67P/Churyumov–Gerasimenko"
   ]
  },
  {
   "cell_type": "markdown",
   "metadata": {},
   "source": [
    "Whenever you want to use an API, have a quick look at the documentation to see what it can do and how to use it!\n",
    "In the present case of Miriade, the documentation is available at https://ssp.imcce.fr/webservices/miriade/api/ephemcc/\n",
    "\n",
    "For instance, you can easily switch to **ecliptic** coordinates (*rplane* keyword), change the list of reported columns ([*tcoor* keyword](https://ssp.imcce.fr/webservices/miriade/api/ephemcc/#output-results)), compute magnitude in different filters ([*colors* keyword](https://ssp.imcce.fr/webservices/miriade/howto/ephemcc/#howto-filters)), even in the thermal infrared\n",
    "([*thermalFlux* keyword](https://ssp.imcce.fr/webservices/miriade/howto/ephemcc/#howto-thermalflux))."
   ]
  },
  {
   "cell_type": "code",
   "execution_count": 15,
   "metadata": {},
   "outputs": [],
   "source": [
    "# Service URL\n",
    "url = \"https://ssp.imcce.fr/webservices/miriade/api/ephemcc.php?\"\n",
    "\n",
    "\n",
    "# Query parameters\n",
    "params = {\n",
    "    \"-name\": \"Patroclus\",\n",
    "    \"-ep\": \"2020-01-01\",\n",
    "    \"-nbd\": 360,\n",
    "    \"-step\": \"10d\",\n",
    "    \"-mime\": \"json\",\n",
    "    \"-observer\": \"@sun\",\n",
    "    \"-rplane\": 2,\n",
    "    \"-tcoor\": 2,\n",
    "    \"-output\": \"--jd\",\n",
    "    \"-from\": \"Student_at_Les_Houches\",\n",
    "}\n",
    "\n",
    "# Query the service\n",
    "try:\n",
    "    r = requests.post(url, params=params, timeout=2000)\n",
    "except requests.exceptions.ReadTimeout:\n",
    "    print(\"Request timed out\")\n",
    "\n",
    "# Convert the json results into a python dictionary\n",
    "result = json.loads(r.content)\n",
    "\n",
    "# Get ephemerides in a pandas DataFrame\n",
    "patroclus = pd.DataFrame.from_dict(result[\"data\"])"
   ]
  },
  {
   "cell_type": "code",
   "execution_count": null,
   "metadata": {},
   "outputs": [],
   "source": [
    "# Plot elevation curves\n",
    "fig, ax = plt.subplots()\n",
    "\n",
    "# The Sun!\n",
    "ax.scatter(0, 0, marker=\"*\", s=100, color=\"orange\", label=\"Sun\")\n",
    "\n",
    "# --------------------------------------------------------------------------------\n",
    "# Plot the trajectory\n",
    "im = ax.scatter(\n",
    "    patroclus[\"px\"], patroclus[\"py\"], c=patroclus[\"Date\"], label=\"Patroclus\", s=4\n",
    ")\n",
    "\n",
    "cbar = fig.colorbar(im)\n",
    "\n",
    "# --------------------------------------------------------------------------------\n",
    "# Set up axes\n",
    "ax.set_xlabel(\"Ecliptic X (au)\")\n",
    "ax.set_ylabel(\"Ecliptic Y (au)\")\n",
    "ax.set_aspect(\"equal\")\n",
    "ax.set_xlim(-7, 7)\n",
    "ax.legend(loc=\"upper right\")"
   ]
  },
  {
   "cell_type": "markdown",
   "metadata": {},
   "source": [
    "The same with the planets!"
   ]
  },
  {
   "cell_type": "code",
   "execution_count": null,
   "metadata": {},
   "outputs": [],
   "source": [
    "# Plot elevation curves\n",
    "fig, ax = plt.subplots()\n",
    "\n",
    "\n",
    "# --------------------------------------------------------------------------------\n",
    "# The Sun!\n",
    "ax.scatter(0, 0, marker=\"*\", s=100, color=\"orange\", label=\"Sun\")\n",
    "\n",
    "# Plot the trajectory\n",
    "im = ax.scatter(\n",
    "    patroclus[\"px\"], patroclus[\"py\"], c=patroclus[\"Date\"], label=\"Patroclus\", s=20\n",
    ")\n",
    "cbar = fig.colorbar(im)\n",
    "\n",
    "\n",
    "# --------------------------------------------------------------------------------\n",
    "# Add the comet\n",
    "\n",
    "# Query the service - Simply changing the target\n",
    "params[\"-name\"] = \"c:67P\"\n",
    "\n",
    "try:\n",
    "    r = requests.post(url, params=params, timeout=2000)\n",
    "except requests.exceptions.ReadTimeout:\n",
    "    print(\"Request timed out\")\n",
    "\n",
    "# Convert the json results into a python dictionary\n",
    "result = json.loads(r.content)\n",
    "\n",
    "# Get ephemerides in a pandas DataFrame\n",
    "comet = pd.DataFrame.from_dict(result[\"data\"])\n",
    "\n",
    "# Plot the trajectory\n",
    "ax.scatter(comet[\"px\"], comet[\"py\"], c=comet[\"Date\"], label=\"67P\", marker=\"d\", s=20)\n",
    "\n",
    "\n",
    "# --------------------------------------------------------------------------------\n",
    "# Add planets\n",
    "for i, p in enumerate([\"Mercury\", \"Venus\", \"Earth\", \"Mars\", \"Jupiter\"]):\n",
    "    # Query parameters\n",
    "    params = {\n",
    "        \"-name\": f\"p:{p}\",\n",
    "        \"-ep\": \"2020-01-01\",\n",
    "        \"-nbd\": 360,\n",
    "        \"-step\": \"10d\",\n",
    "        \"-mime\": \"json\",\n",
    "        \"-observer\": \"@sun\",\n",
    "        \"-rplane\": 2,\n",
    "        \"-tcoor\": 2,\n",
    "        \"-output\": \"--jd\",\n",
    "        \"-from\": \"Student_at_Les_Houches\",\n",
    "    }\n",
    "\n",
    "    # Query the service *if* the ephemerides is not already downloaded\n",
    "    if not os.path.exists(f\"{p}.csv\"):\n",
    "        try:\n",
    "            r = requests.post(url, params=params, timeout=2000)\n",
    "        except requests.exceptions.ReadTimeout:\n",
    "            print(\"Request timed out\")\n",
    "\n",
    "        # Convert the json results into a python dictionary\n",
    "        result = json.loads(r.content)\n",
    "\n",
    "        # Get ephemerides in a pandas DataFrame\n",
    "        planet = pd.DataFrame.from_dict(result[\"data\"])\n",
    "        planet.to_csv(f\"{p}.csv\", index=False)\n",
    "\n",
    "    else:\n",
    "        planet = pd.read_csv(f\"{p}.csv\")\n",
    "\n",
    "    # Overplot the planet\n",
    "    ax.plot(planet[\"px\"], planet[\"py\"], label=p)\n",
    "\n",
    "# --------------------------------------------------------------------------------\n",
    "# Set up axes\n",
    "ax.set_xlabel(\"Ecliptic X (au)\")\n",
    "ax.set_ylabel(\"Ecliptic Y (au)\")\n",
    "ax.set_aspect(\"equal\")\n",
    "ax.set_xlim(-7, 7)\n",
    "ax.legend(loc=\"lower right\")"
   ]
  }
 ],
 "metadata": {
  "kernelspec": {
   "display_name": "Python 3 (ipykernel)",
   "language": "python",
   "name": "python3"
  },
  "language_info": {
   "codemirror_mode": {
    "name": "ipython",
    "version": 3
   },
   "file_extension": ".py",
   "mimetype": "text/x-python",
   "name": "python",
   "nbconvert_exporter": "python",
   "pygments_lexer": "ipython3",
   "version": "3.12.0"
  }
 },
 "nbformat": 4,
 "nbformat_minor": 4
}
