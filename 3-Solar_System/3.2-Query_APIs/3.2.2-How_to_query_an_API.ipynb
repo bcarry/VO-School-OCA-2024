{
 "cells": [
  {
   "cell_type": "markdown",
   "metadata": {},
   "source": [
    "# Solar System Objects in a field of view\n",
    "\n",
    "The purpose of the tutorial is to retrieve data from an API (Application Programming Interface).\n",
    "Once you will have done it once, you will see that \n",
    "\n",
    "1. it's easy!\n",
    "2. many Web services in astronomy can be accessed by adapting the code here below. \n",
    "\n",
    "\n",
    "To illustrate the query, we will search for all Solar System objects in a field of view. In the\n",
    "<a href=\"https://www.ivoa.net/\">Virtual Observatory</a> terminology, this is called a\n",
    "<kbd><a href=\"https://www.ivoa.net/documents/latest/ConeSearch.html\">cone-search</a></kbd>.\n",
    "\n",
    "We must specify the direction (**coordinates**) at which we are pointing at, and a **radius** around to search for targets. As Solar System objects constantly move, the **epoch** of observation is also required. The general philosophy is to provide all the parameters as keywords (in a <kbd>param=value</kbd> fashion) to the URL of the service, which returns the answer. \n",
    "\n",
    "<kbd><a href=\"https://www.ivoa.net/documents/latest/ConeSearch.html\">cone-search</a></kbd> are core services in the\n",
    "<a href=\"https://www.ivoa.net/\">Virtual Observatory</a> for fixed objects (stars, galaxies, ...). They are, however, only a few for Solar System:\n",
    "\n",
    "- **MPChecker** of the [Minor Planet Center](https://minorplanetcenter.net), available in [Web form](https://minorplanetcenter.net/cgi-bin/checkmp.cgi) only\n",
    "- **SkyBoT** of the [IMCCE](https://www.imcce.fr/), available in [Aladin](https://aladin.cds.unistra.fr/) and with an [API](https://ssp.imcce.fr/webservices/skybot/)\n",
    "- **Small-Body Identification Tool** of the [JPL Solar System Dynamics](https://ssd.jpl.nasa.gov/), available in [Web form](https://ssd.jpl.nasa.gov/tools/sb_ident.html) and [API](https://ssd-api.jpl.nasa.gov/doc/sb_ident.html)\n",
    "\n",
    "We will use **SkyBoT** here."
   ]
  },
  {
   "cell_type": "code",
   "execution_count": null,
   "metadata": {},
   "outputs": [],
   "source": [
    "import io\n",
    "import requests\n",
    "from astropy.coordinates import Angle\n",
    "\n",
    "import pandas as pd\n",
    "\n",
    "import matplotlib.pyplot as plt\n",
    "from astropy.coordinates import SkyCoord"
   ]
  },
  {
   "cell_type": "markdown",
   "metadata": {},
   "source": [
    "## Define the parameters of the query\n",
    "\n",
    "All services with an API have a documentation explaining how to use them. For a complete description of the parameters, we highly recommend to look at the documentation:\n",
    "[https://ssp.imcce.fr/webservices/skybot/api/conesearch/](https://ssp.imcce.fr/webservices/skybot/api/conesearch/)"
   ]
  },
  {
   "cell_type": "code",
   "execution_count": null,
   "metadata": {},
   "outputs": [],
   "source": [
    "# When we observe\n",
    "epoch = \"2022-06-21T00:00:00\"\n",
    "\n",
    "# Where we observe\n",
    "ra = \"07h08m00\"\n",
    "dec = \"+26d34m00\"\n",
    "radius = 0.25 # degrees\n",
    "\n",
    "# Where are we observing from (observatory IAU code, 500=geocenter)\n",
    "observer = \"500\"\n",
    "\n",
    "# Filename to store results\n",
    "filename = \"my_conesearch.csv\""
   ]
  },
  {
   "cell_type": "markdown",
   "metadata": {},
   "source": [
    "## Build the query parameters\n",
    "\n",
    "This step will be very similar for all APIs you query: you specify the URL of the service and create a `dict` containing the parameter-value pairs you want to pass to the request."
   ]
  },
  {
   "cell_type": "code",
   "execution_count": null,
   "metadata": {},
   "outputs": [],
   "source": [
    "# Service URL\n",
    "url = \"https://ssp.imcce.fr/webservices/skybot/api/conesearch.php?\"\n",
    "\n",
    "# Query parameters\n",
    "# The request package that we will use will create the full URL for us from the dictionary below\n",
    "params = {\n",
    "    \"-ep\": epoch,\n",
    "    \"-ra\": Angle(ra).degree,\n",
    "    \"-dec\": Angle(dec).degree,\n",
    "    \"-rd\": radius,\n",
    "    \"-mime\": \"json\",\n",
    "    \"-output\": \"all\",\n",
    "    \"-loc\": observer,\n",
    "    \"-tscale\": \"UTC\",\n",
    "    '-objFilter': '110'\n",
    "}"
   ]
  },
  {
   "cell_type": "markdown",
   "metadata": {},
   "source": [
    "## Querying the service\n",
    "\n",
    "The critical part in the code below is the `requests.post` line, which executes an HTTP POST request, used to send data to a server. We wrap it in a try-except block because sometimes, servers do not respond in time, and the request times out with an error."
   ]
  },
  {
   "cell_type": "code",
   "execution_count": null,
   "metadata": {},
   "outputs": [],
   "source": [
    "try:\n",
    "    r = requests.post(url, params=params, timeout=2000)\n",
    "except requests.exceptions.ReadTimeout:\n",
    "    print(\"Request timed out\")"
   ]
  },
  {
   "cell_type": "markdown",
   "metadata": {},
   "source": [
    "That's it! Easy isn't it?\n",
    "\n",
    "The variable <kbd>r</kbd> contains the results of the <kbd><a href=\"https://www.ivoa.net/documents/latest/ConeSearch.html\">cone-search</a></kbd>. We can extract its content and write it to disk for later usage if needed (*disk access generally slows codes*). "
   ]
  },
  {
   "cell_type": "markdown",
   "metadata": {},
   "source": [
    "## Reading the results\n",
    "\n",
    "The `io.BytesIO` function is a neat little trick to create a \"file-like\" object in `python` that we can pass to functions like `read_json`. Alternatively, we can write the file to disk and pass the filename to `read_json`."
   ]
  },
  {
   "cell_type": "code",
   "execution_count": null,
   "metadata": {},
   "outputs": [],
   "source": [
    "# Read results in a pandas DataFrame\n",
    "data = pd.read_json(io.BytesIO(r.content))"
   ]
  },
  {
   "cell_type": "code",
   "execution_count": null,
   "metadata": {},
   "outputs": [],
   "source": [
    "# Inspect the results, brightest first\n",
    "data.sort_values(by=\"VMag (mag)\").head()"
   ]
  },
  {
   "cell_type": "markdown",
   "metadata": {},
   "source": [
    "## Writing the results to disk"
   ]
  },
  {
   "cell_type": "code",
   "execution_count": null,
   "metadata": {},
   "outputs": [],
   "source": [
    "# Write results\n",
    "data.to_csv(filename, index=False)"
   ]
  },
  {
   "cell_type": "markdown",
   "metadata": {},
   "source": [
    "## Plot the results"
   ]
  },
  {
   "cell_type": "code",
   "execution_count": null,
   "metadata": {},
   "outputs": [],
   "source": [
    "# Convert RA/Dec from hours/degrees to degrees\n",
    "coords = SkyCoord(data[\"RA (deg)\"], data[\"DEC (deg)\"], unit=(\"hour\", \"deg\"))\n",
    "\n",
    "data[\"RA\"] = coords.ra.degree\n",
    "data[\"DEC\"] = coords.dec.degree"
   ]
  },
  {
   "cell_type": "code",
   "execution_count": null,
   "metadata": {},
   "outputs": [],
   "source": [
    "# Create a figure and axe objects\n",
    "fig, ax = plt.subplots()\n",
    "\n",
    "# Plot the asteroids (size is inversely proportional to magnitude)\n",
    "ax.scatter(data[\"RA\"], data[\"DEC\"], s=80 - 3 * data[\"VMag (mag)\"], color=\"C0\")\n",
    "\n",
    "# Show the arrows of motion\n",
    "scale = 3000  # Visual scaling factor for the arrows\n",
    "for i, row in data.iterrows():\n",
    "    ax.arrow(\n",
    "        row[\"RA\"],\n",
    "        row[\"DEC\"],\n",
    "        row[\"dRA (arcsec/h)\"] / scale,\n",
    "        row[\"dDEC (arcsec/h)\"] / scale,\n",
    "        color=\"C0\",\n",
    "    )\n",
    "\n",
    "# Set axes\n",
    "ax.set_aspect(\"equal\")\n",
    "ax.set_xlabel(\"Right Ascencion (deg)\")\n",
    "ax.set_ylabel(\"Declination (deg)\")\n",
    "ax.xaxis.set_inverted(True)\n",
    "\n",
    "plt.show()"
   ]
  },
  {
   "cell_type": "markdown",
   "metadata": {},
   "source": [
    "# What about the stars?\n",
    "\n",
    "We have queried a <kbd><a href=\"https://www.ivoa.net/documents/latest/ConeSearch.html\">cone-search</a></kbd> API for the Solar System.\n",
    "Depending on the data provider, they may also provide some library/packages (in java, python, ...) to build the query for you.\n",
    "\n",
    "In that respect, the <kbd>[astroquery](https://astroquery.readthedocs.io/en/latest/index.html)</kbd> package (affiliated to \n",
    "<kbd>[astropy](https://www.astropy.org/)</kbd>) offers a common interface to **many** services\n",
    "([CADC](https://www.cadc-ccda.hia-iha.nrc-cnrc.gc.ca/en/),\n",
    "[CDS](https://cds.unistra.fr/),\n",
    "[ESA](https://www.esa.int/),\n",
    "[ESO](https://www.eso.org/),\n",
    "[MAST](https://mast.stsci.edu/portal/Mashup/Clients/Mast/Portal.html),\n",
    "[MPC](https://minorplanetcenter.net/),\n",
    "[NASA Ads](https://ui.adsabs.harvard.edu/),\n",
    "[IMCCE](https://www.imcce.fr/),\n",
    "...\n",
    ")\n",
    "\n",
    "So let's use the \n",
    "<kbd>[Gaia](https://astroquery.readthedocs.io/en/latest/gaia/gaia.html)</kbd> module of \n",
    "<kbd>[astroquery](https://astroquery.readthedocs.io/en/latest/index.html)</kbd> to retrieve \n",
    "[Gaia](https://gea.esac.esa.int/archive/) stars in the same field, and overplot them (this would be the way to query stars for astrometry and photometry calibration for instance)."
   ]
  },
  {
   "cell_type": "code",
   "execution_count": null,
   "metadata": {},
   "outputs": [],
   "source": [
    "import astropy.units as u\n",
    "from astroquery.gaia import Gaia\n",
    "\n",
    "# Define the cone-search center (as astropy SkyCoord object)\n",
    "coord = SkyCoord(ra=ra, dec=dec, unit=(u.hour, u.degree), frame=\"icrs\")\n",
    "\n",
    "# Query Gaia DR3\n",
    "# Here the columns keyword is optional, but it is good practice to specify only the columns you need\n",
    "Gaia.ROW_LIMIT = -1  # To get all entries\n",
    "j = Gaia.cone_search_async(\n",
    "    coord,\n",
    "    radius=u.Quantity(radius, u.deg),\n",
    "    columns=[\"ra\", \"dec\", \"phot_g_mean_mag\", \"phot_bp_mean_mag\", \"phot_rp_mean_mag\"],\n",
    ")\n",
    "\n",
    "# Get results\n",
    "catalog = j.get_results()"
   ]
  },
  {
   "cell_type": "code",
   "execution_count": null,
   "metadata": {},
   "outputs": [],
   "source": [
    "# Inspect the retrieved\n",
    "catalog[:5]"
   ]
  },
  {
   "cell_type": "code",
   "execution_count": null,
   "metadata": {},
   "outputs": [],
   "source": [
    "fig, ax = plt.subplots()\n",
    "\n",
    "# Plot Gaia stars\n",
    "ax.scatter(\n",
    "    catalog[\"ra\"],\n",
    "    catalog[\"dec\"],\n",
    "    s=20 - catalog[\"phot_g_mean_mag\"],\n",
    "    color=\"grey\",\n",
    "    label=\"Stars (Gaia)\",\n",
    ")\n",
    "\n",
    "# Plot the asteroids (size is inversely proportional to magnitude)\n",
    "ax.scatter(\n",
    "    data[\"RA\"], data[\"DEC\"], s=80 - 3 * data[\"VMag (mag)\"], color=\"C0\", label=\"SSOs (SkyBoT)\"\n",
    ")\n",
    "\n",
    "# Show the arrows of motion\n",
    "scale = 3000  # Visual scaling factor for the arrows\n",
    "for i, row in data.iterrows():\n",
    "    ax.arrow(\n",
    "        row[\"RA\"],\n",
    "        row[\"DEC\"],\n",
    "        row[\"dRA (arcsec/h)\"] / scale,\n",
    "        row[\"dDEC (arcsec/h)\"] / scale,\n",
    "        color=\"C0\",\n",
    "    )\n",
    "\n",
    "# Set axes\n",
    "ax.set_aspect(\"equal\")\n",
    "ax.set_xlabel(\"Right Ascencion (deg)\")\n",
    "ax.set_ylabel(\"Declination (deg)\")\n",
    "ax.legend(loc=\"upper right\")\n",
    "ax.xaxis.set_inverted(True)\n",
    "\n",
    "plt.show()"
   ]
  },
  {
   "cell_type": "markdown",
   "metadata": {},
   "source": [
    "Here it is. We have easily drawn a portion of the sky, with both the stars and the Solar System objects!\n",
    "So, whenever you plan to access data, check out\n",
    "\n",
    "- if there is an API, then <kbd>[requests](https://pypi.org/project/requests/)</kbd> is your friend\n",
    "- check if <kbd>[astroquery](https://astroquery.readthedocs.io/en/latest/index.html)</kbd> has already implemented a solution for you\n",
    "\n",
    "Remember that services are made by ourselves for ourselves, as a community. Consider providing APIs to the data sets and services you produce.\n",
    "(*side note: the [Vizier](https://vizier.cds.unistra.fr/viz-bin/VizieR) service of the [CDS](https://cds.unistra.fr/) is a extremely simple way to publish your data upon publication*)."
   ]
  },
  {
   "cell_type": "markdown",
   "metadata": {},
   "source": [
    "**Want to practice?**\n",
    "\n",
    "- Save the Gaia catalog to a local file.\n",
    "- Color-code the Gaia star based on their intrinsic colors (B<sub>p</sub>-R<sub>p</sub>) on the plot.\n",
    "- Search for Solar System objects around the coordinates (RA,Dec) = (02 13 25, +12 06 43) on 2024-01-01, with a radius of one degree. \n",
    "- Try the exercises proposed in the notebook `3.2.3 Exercises`\n",
    "- Get experience with the exercises proposed in the notebook `3.3.3 Advanced exercises`"
   ]
  },
  {
   "cell_type": "code",
   "execution_count": null,
   "metadata": {},
   "outputs": [],
   "source": []
  }
 ],
 "metadata": {
  "kernelspec": {
   "display_name": "3.10.7",
   "language": "python",
   "name": "3.10.7"
  },
  "language_info": {
   "codemirror_mode": {
    "name": "ipython",
    "version": 3
   },
   "file_extension": ".py",
   "mimetype": "text/x-python",
   "name": "python",
   "nbconvert_exporter": "python",
   "pygments_lexer": "ipython3",
   "version": "3.10.7"
  }
 },
 "nbformat": 4,
 "nbformat_minor": 4
}
